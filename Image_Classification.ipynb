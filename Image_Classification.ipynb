{
  "nbformat": 4,
  "nbformat_minor": 0,
  "metadata": {
    "colab": {
      "provenance": [],
      "authorship_tag": "ABX9TyO3lmRQVog1AXNTHZrnW/YL",
      "include_colab_link": true
    },
    "kernelspec": {
      "name": "python3",
      "display_name": "Python 3"
    },
    "language_info": {
      "name": "python"
    },
    "accelerator": "GPU",
    "gpuClass": "standard"
  },
  "cells": [
    {
      "cell_type": "markdown",
      "metadata": {
        "id": "view-in-github",
        "colab_type": "text"
      },
      "source": [
        "<a href=\"https://colab.research.google.com/github/aryanVanaik/ImageClassification/blob/main/Image_Classification.ipynb\" target=\"_parent\"><img src=\"https://colab.research.google.com/assets/colab-badge.svg\" alt=\"Open In Colab\"/></a>"
      ]
    },
    {
      "cell_type": "markdown",
      "source": [
        "###The Imports"
      ],
      "metadata": {
        "id": "xpbQ5ZXB3gyD"
      }
    },
    {
      "cell_type": "code",
      "source": [
        "import torch\n",
        "from torch import nn\n",
        "import numpy as np\n",
        "import matplotlib.pyplot as plt\n",
        "import tqdm.auto as tqdm\n",
        "## Importing non standard libries\n",
        "try:\n",
        "  import torchmetrics\n",
        "\n",
        "except:\n",
        "  !pip install torchmetrics\n",
        "  import torchmetrics\n",
        "\n",
        "from torchmetrics.classification import Accuracy"
      ],
      "metadata": {
        "id": "ZuYBlg5i3pTZ"
      },
      "execution_count": 24,
      "outputs": []
    },
    {
      "cell_type": "code",
      "source": [
        "# Device agnostic code\n",
        "device = \"cuda\" if torch.cuda.is_available() else \"cpu\"\n",
        "device\n"
      ],
      "metadata": {
        "colab": {
          "base_uri": "https://localhost:8080/",
          "height": 35
        },
        "id": "0xhJ5kgv_hFA",
        "outputId": "16004070-7c8f-4915-a006-6fe8abd6ff18"
      },
      "execution_count": 25,
      "outputs": [
        {
          "output_type": "execute_result",
          "data": {
            "text/plain": [
              "'cuda'"
            ],
            "application/vnd.google.colaboratory.intrinsic+json": {
              "type": "string"
            }
          },
          "metadata": {},
          "execution_count": 25
        }
      ]
    },
    {
      "cell_type": "markdown",
      "source": [
        "## Obtaining Data provided by courtrsy of mkdbourke github link: https://github.com/mrdbourke/pytorch-deep-learning"
      ],
      "metadata": {
        "id": "lXgx9uTZ4Lmj"
      }
    },
    {
      "cell_type": "code",
      "source": [
        "import requests\n",
        "import zipfile\n",
        "from pathlib import Path\n",
        "\n",
        "# path to data folder\n",
        "data_path = Path(\"data/\")\n",
        "image_path = data_path / \"pizza_steak_sushi\"\n",
        "\n",
        "# If the image folder doesnt exist, download it and prepare it...\n",
        "if image_path.is_dir():\n",
        "  print(f\"{image_path} directory exists skipping download\")\n",
        "\n",
        "else:\n",
        "  print(f\"{image_path} does not exist, creating one...\")\n",
        "  image_path.mkdir(parents=True,exist_ok=True)\n",
        "\n",
        "with open(data_path/\"pizza_steak_sushi.zip\",\"wb\") as f:\n",
        " \n",
        "  request = requests.get(\" https://github.com/mrdbourke/pytorch-deep-learning/raw/main/data/pizza_steak_sushi.zip\")\n",
        "  print(\"Downloading pizza steak, sushi data\")\n",
        "  f.write(request.content)\n",
        "\n",
        "with zipfile.ZipFile(data_path/\"pizza_steak_sushi.zip\", \"r\") as zip_ref:\n",
        "  print(\"Unzipping data\")\n",
        "  zip_ref.extractall(image_path)"
      ],
      "metadata": {
        "colab": {
          "base_uri": "https://localhost:8080/"
        },
        "id": "MrsK22ah4iJo",
        "outputId": "7fd39815-208c-4a5c-d3cc-44b909bc6d1d"
      },
      "execution_count": 26,
      "outputs": [
        {
          "output_type": "stream",
          "name": "stdout",
          "text": [
            "data/pizza_steak_sushi directory exists skipping download\n",
            "Downloading pizza steak, sushi data\n",
            "Unzipping data\n"
          ]
        }
      ]
    },
    {
      "cell_type": "code",
      "source": [
        "# Setup train and testing paths\n",
        "train_dir = image_path/ \"train\"\n",
        "test_dir = image_path/ \"test\""
      ],
      "metadata": {
        "id": "pQYVi2kw4-_8"
      },
      "execution_count": 27,
      "outputs": []
    },
    {
      "cell_type": "markdown",
      "source": [
        "### Creating the datasets"
      ],
      "metadata": {
        "id": "VGt_Ewmn4_CP"
      }
    },
    {
      "cell_type": "code",
      "source": [
        "from torchvision import transforms,datasets\n",
        "train_transform = transforms.Compose([\n",
        "    transforms.Resize(size=(64,64)),\n",
        "    transforms.ToTensor() \n",
        "])\n",
        "\n",
        "test_transform = transforms.Compose([\n",
        "    transforms.Resize(size=(64,64)),\n",
        "    transforms.ToTensor() \n",
        "])"
      ],
      "metadata": {
        "id": "W7ZKPj_s6IOO"
      },
      "execution_count": 28,
      "outputs": []
    },
    {
      "cell_type": "code",
      "source": [
        "\n",
        "\n",
        "train_data = datasets.ImageFolder(root=train_dir,\n",
        "                                  transform=train_transform, # a tranform for the data\n",
        "                                  target_transform=None) # a transfrom for the label/target \n",
        "\n",
        "test_data = datasets.ImageFolder(root=test_dir,\n",
        "                                  transform=test_transform, # a tranform for the data\n",
        "                                  target_transform=None)\n",
        "\n",
        "train_data, test_data"
      ],
      "metadata": {
        "colab": {
          "base_uri": "https://localhost:8080/"
        },
        "id": "XKf_DeiK4_Eb",
        "outputId": "e45cdd3a-8ccc-432f-8b32-7532eb43ff5e"
      },
      "execution_count": 29,
      "outputs": [
        {
          "output_type": "execute_result",
          "data": {
            "text/plain": [
              "(Dataset ImageFolder\n",
              "     Number of datapoints: 225\n",
              "     Root location: data/pizza_steak_sushi/train\n",
              "     StandardTransform\n",
              " Transform: Compose(\n",
              "                Resize(size=(64, 64), interpolation=bilinear, max_size=None, antialias=None)\n",
              "                ToTensor()\n",
              "            ), Dataset ImageFolder\n",
              "     Number of datapoints: 75\n",
              "     Root location: data/pizza_steak_sushi/test\n",
              "     StandardTransform\n",
              " Transform: Compose(\n",
              "                Resize(size=(64, 64), interpolation=bilinear, max_size=None, antialias=None)\n",
              "                ToTensor()\n",
              "            ))"
            ]
          },
          "metadata": {},
          "execution_count": 29
        }
      ]
    },
    {
      "cell_type": "code",
      "source": [
        "class_names = train_data.classes\n",
        "class_names"
      ],
      "metadata": {
        "colab": {
          "base_uri": "https://localhost:8080/"
        },
        "id": "TjpFJ-P24_G6",
        "outputId": "52f4c3f0-6de2-40ef-df25-32c2ef3f147e"
      },
      "execution_count": 30,
      "outputs": [
        {
          "output_type": "execute_result",
          "data": {
            "text/plain": [
              "['pizza', 'steak', 'sushi']"
            ]
          },
          "metadata": {},
          "execution_count": 30
        }
      ]
    },
    {
      "cell_type": "code",
      "source": [
        "# Batchifying the data \n",
        "from torch.utils.data import DataLoader\n",
        "BATCH_SIZE=32\n",
        "train_dataloader = DataLoader(dataset=train_data,\n",
        "                              batch_size=BATCH_SIZE,\n",
        "                              num_workers=1,\n",
        "                              shuffle=True)\n",
        "\n",
        "test_dataloader = DataLoader(dataset=test_data,\n",
        "                             batch_size=BATCH_SIZE,\n",
        "                             num_workers=1,\n",
        "                             shuffle=True)"
      ],
      "metadata": {
        "id": "DZT3TGmB4_JD"
      },
      "execution_count": 31,
      "outputs": []
    },
    {
      "cell_type": "markdown",
      "source": [
        "### The Model will be a smaller representation of the VGG16 network called TinyVGG Implemeted here: https://poloclub.github.io/cnn-explainer/\n"
      ],
      "metadata": {
        "id": "nQIstzfJ4_LM"
      }
    },
    {
      "cell_type": "code",
      "source": [
        "class TinyVGG(nn.Module):\n",
        "  def __init__(self,input_shape:int, hidden_units:int, output_shape:int) -> None:\n",
        "    super().__init__()\n",
        "    self.conv_layer1 = nn.Sequential(\n",
        "        nn.Conv2d(in_channels= input_shape,\n",
        "                  out_channels = hidden_units,\n",
        "                  kernel_size=3,\n",
        "                  stride=1,\n",
        "                  padding=0),\n",
        "        nn.ReLU(),\n",
        "        nn.Conv2d(in_channels=hidden_units,\n",
        "                  out_channels =hidden_units,\n",
        "                  kernel_size=3,\n",
        "                  stride=1,padding=0),\n",
        "        nn.ReLU(),\n",
        "        nn.MaxPool2d(kernel_size=2, stride=2)\n",
        "    )\n",
        "    self.conv_layer2 = nn.Sequential(\n",
        "        nn.Conv2d(in_channels= hidden_units,\n",
        "                  out_channels= hidden_units,\n",
        "                  kernel_size=3,\n",
        "                  padding=0),\n",
        "        nn.ReLU(),\n",
        "        nn.Conv2d(hidden_units,hidden_units, kernel_size=3, padding=0),\n",
        "        nn.ReLU(),\n",
        "        nn.MaxPool2d(2)\n",
        "    )\n",
        "    self.classifier = nn.Sequential(\n",
        "        nn.Flatten(),\n",
        "        nn.Linear(in_features = hidden_units *13*13,\n",
        "                  out_features = output_shape,\n",
        "                )\n",
        "    )\n",
        "\n",
        "  def forward(self,x):\n",
        "      # x = self.conv_layer1(x)\n",
        "      # print(x.shape)\n",
        "      # x = self.conv_layer2(x)\n",
        "      # print(x.shape)\n",
        "      # x = self.classifier(x)\n",
        "      # print(x.shape)\n",
        "      # return x\n",
        "\n",
        "    return self.classifier(self.conv_layer2(self.conv_layer1(x)))"
      ],
      "metadata": {
        "id": "W-nrI5CJ4_Pz"
      },
      "execution_count": 64,
      "outputs": []
    },
    {
      "cell_type": "code",
      "source": [
        "# The Model\n",
        "model_0 = TinyVGG(3,10,len(train_data.classes)).to(device)\n",
        "model_0"
      ],
      "metadata": {
        "colab": {
          "base_uri": "https://localhost:8080/"
        },
        "id": "QCoRkxPr_Nqv",
        "outputId": "94e00d90-7c7f-4259-a8d0-1e4f6db67762"
      },
      "execution_count": 65,
      "outputs": [
        {
          "output_type": "execute_result",
          "data": {
            "text/plain": [
              "TinyVGG(\n",
              "  (conv_layer1): Sequential(\n",
              "    (0): Conv2d(3, 10, kernel_size=(3, 3), stride=(1, 1))\n",
              "    (1): ReLU()\n",
              "    (2): Conv2d(10, 10, kernel_size=(3, 3), stride=(1, 1))\n",
              "    (3): ReLU()\n",
              "    (4): MaxPool2d(kernel_size=2, stride=2, padding=0, dilation=1, ceil_mode=False)\n",
              "  )\n",
              "  (conv_layer2): Sequential(\n",
              "    (0): Conv2d(10, 10, kernel_size=(3, 3), stride=(1, 1))\n",
              "    (1): ReLU()\n",
              "    (2): Conv2d(10, 10, kernel_size=(3, 3), stride=(1, 1))\n",
              "    (3): ReLU()\n",
              "    (4): MaxPool2d(kernel_size=2, stride=2, padding=0, dilation=1, ceil_mode=False)\n",
              "  )\n",
              "  (classifier): Sequential(\n",
              "    (0): Flatten(start_dim=1, end_dim=-1)\n",
              "    (1): Linear(in_features=1690, out_features=3, bias=True)\n",
              "  )\n",
              ")"
            ]
          },
          "metadata": {},
          "execution_count": 65
        }
      ]
    },
    {
      "cell_type": "markdown",
      "source": [
        "## Functions for training and testing loop\n"
      ],
      "metadata": {
        "id": "jVluQxOlAto2"
      }
    },
    {
      "cell_type": "code",
      "source": [
        "def train_batch(model:torch.nn.Module,\n",
        "                dataloader: torch.utils.data.DataLoader,\n",
        "                loss_fn: torch.nn.Module,\n",
        "                optimizer:torch.optim.Optimizer,\n",
        "                device =device):\n",
        "  model.train()\n",
        "\n",
        "  train_loss,train_acc=0,0\n",
        "\n",
        "\n",
        "  for batch, (X,y) in enumerate(dataloader):\n",
        "    X, y = X.to(device), y.to(device)\n",
        "    y_pred = model(X)\n",
        "\n",
        "    loss=loss_fn(y_pred,y)\n",
        "    train_loss+=loss.item()\n",
        "\n",
        "    optimizer.zero_grad()\n",
        "    loss.backward()\n",
        "\n",
        "    optimizer.step()\n",
        "\n",
        "    y_pred_class = torch.argmax(torch.softmax(y_pred, dim=1), dim=1)\n",
        "    train_acc += (y_pred_class == y).sum().item()/len(y_pred)\n",
        "\n",
        "\n",
        "  train_loss = train_loss/len(dataloader)\n",
        "  train_acc = train_acc/len(dataloader)\n",
        "\n",
        "  return train_loss,train_acc\n",
        "\n",
        "\n",
        "  "
      ],
      "metadata": {
        "id": "KP2pdwGCA0PK"
      },
      "execution_count": 62,
      "outputs": []
    },
    {
      "cell_type": "code",
      "source": [
        "def test_batch(model:torch.nn.Module,\n",
        "               dataloader:torch.utils.data.DataLoader,\n",
        "               loss_fn=torch.nn.Module,\n",
        "               device=device):\n",
        "  model.eval()\n",
        "  test_loss,test_acc =0,0\n",
        "  \n",
        "  with torch.inference_mode():\n",
        "    for batch,(X,y) in enumerate(dataloader):\n",
        "      X, y = X.to(device), y.to(device)\n",
        "      test_logits = model(X)\n",
        "\n",
        "      loss = loss_fn(test_logits,y)\n",
        "      test_loss += loss.item()\n",
        "\n",
        "      test_pred_label = torch.argmax(torch.softmax(test_logits,dim=1),dim=1)\n",
        "      test_acc += ((test_pred_label==y).sum().item()/len(test_pred_label))\n",
        "  test_loss = test_loss/len(dataloader)\n",
        "  test_acc = test_acc/len(dataloader)\n",
        "  return test_loss,test_acc\n",
        "\n"
      ],
      "metadata": {
        "id": "52W_TzOvA0R6"
      },
      "execution_count": 61,
      "outputs": []
    },
    {
      "cell_type": "code",
      "source": [
        "def full_train(model:torch.nn.Module,\n",
        "               train_dataloader: torch.utils.data.DataLoader,\n",
        "               test_dataloader:torch.utils.data.DataLoader,\n",
        "               optimizer:torch.optim.Optimizer,\n",
        "               loss_fn:torch.nn.Module,\n",
        "               epochs:int,\n",
        "               device = device):\n",
        "  results = {\n",
        "      \"train_loss\":[],\n",
        "      \"train_acc\":[],\n",
        "      \"test_loss\":[],\n",
        "      \"test_acc\":[]\n",
        "  }\n",
        "  for epoch in range(epochs):\n",
        "    train_loss,train_acc = train_batch(model,train_dataloader,loss_fn,optimizer,device)\n",
        "    test_loss,test_acc = test_batch(model,train_dataloader,loss_fn,device)\n",
        "\n",
        "    print(f\"Epoch: {epoch} | Train_loss: {train_loss:.4f} | Train_acc: {train_acc:.4f} | Test_loss: {test_loss:.4f} | Test_acc {test_acc:.4f}\")\n",
        "\n",
        "    results[\"train_loss\"].append(train_loss)\n",
        "    results[\"train_acc\"].append(train_acc)\n",
        "    results[\"test_loss\"].append(test_loss)\n",
        "    results[\"test_acc\"].append(test_acc)\n",
        "\n",
        "  return results\n",
        "  "
      ],
      "metadata": {
        "id": "hKDGnf0cA0Uo"
      },
      "execution_count": 53,
      "outputs": []
    },
    {
      "cell_type": "code",
      "source": [
        "torch.manual_seed(42)\n",
        "torch.cuda.manual_seed(42)\n",
        "loss_fn = nn.CrossEntropyLoss()\n",
        "optimizer = torch.optim.Adam(params =model_0.parameters(), lr=0.0001)"
      ],
      "metadata": {
        "id": "tbsaS0vIA0Wu"
      },
      "execution_count": 69,
      "outputs": []
    },
    {
      "cell_type": "code",
      "source": [
        "model_0_results = full_train(model = model_0,\n",
        "                             train_dataloader=train_dataloader,\n",
        "                             test_dataloader =test_dataloader,\n",
        "                             loss_fn=loss_fn,\n",
        "                             optimizer =optimizer,\n",
        "                             epochs=10)"
      ],
      "metadata": {
        "colab": {
          "base_uri": "https://localhost:8080/"
        },
        "id": "bPBAcDIXA0ZG",
        "outputId": "a119c0ad-b330-4c5f-fe01-22eb00064bd5"
      },
      "execution_count": 70,
      "outputs": [
        {
          "output_type": "stream",
          "name": "stdout",
          "text": [
            "Epoch: 0 | Train_loss: 1.0995 | Train_acc: 0.2812 | Test_loss: 1.0987 | Test_acc 0.2812\n",
            "Epoch: 1 | Train_loss: 1.0970 | Train_acc: 0.4180 | Test_loss: 1.0965 | Test_acc 0.4258\n",
            "Epoch: 2 | Train_loss: 1.0996 | Train_acc: 0.3047 | Test_loss: 1.1015 | Test_acc 0.3047\n",
            "Epoch: 3 | Train_loss: 1.0943 | Train_acc: 0.4258 | Test_loss: 1.0990 | Test_acc 0.3047\n",
            "Epoch: 4 | Train_loss: 1.1029 | Train_acc: 0.3047 | Test_loss: 1.1029 | Test_acc 0.3047\n",
            "Epoch: 5 | Train_loss: 1.1004 | Train_acc: 0.3047 | Test_loss: 1.1018 | Test_acc 0.3047\n",
            "Epoch: 6 | Train_loss: 1.0997 | Train_acc: 0.3047 | Test_loss: 1.0938 | Test_acc 0.4258\n",
            "Epoch: 7 | Train_loss: 1.0948 | Train_acc: 0.4258 | Test_loss: 1.0945 | Test_acc 0.4258\n",
            "Epoch: 8 | Train_loss: 1.0987 | Train_acc: 0.3047 | Test_loss: 1.1032 | Test_acc 0.3047\n",
            "Epoch: 9 | Train_loss: 1.0946 | Train_acc: 0.4258 | Test_loss: 1.1039 | Test_acc 0.3047\n"
          ]
        }
      ]
    },
    {
      "cell_type": "code",
      "source": [
        "model_0_results.keys()\n",
        "def plot_loss_curves(results):\n",
        "  \"\"\"PLots training curves of results dictionary\"\"\"\n",
        "\n",
        "  loss = results[\"train_loss\"]\n",
        "  test_loss = results[\"test_loss\"]\n",
        "\n",
        "  accuracy = results[\"train_acc\"]\n",
        "  test_accuracy = results[\"test_acc\"]\n",
        "  \n",
        "  epochs = range(len(results[\"train_loss\"]))\n",
        "\n",
        "  plt.figure(figsize=(15,7))\n",
        "  \n",
        "  plt.subplot(1,2,1)\n",
        "  plt.plot(epochs,loss,label=\"train_loss\")\n",
        "  plt.plot(epochs,test_loss,label=\"test_loss\")\n",
        "  plt.title(\"loss\")\n",
        "  plt.xlabel(\"Epochs\")\n",
        "  plt.legend()\n",
        "\n",
        "  plt.subplot(1,2,2)\n",
        "  plt.plot(epochs,accuracy, label=\"train_accuracy\")\n",
        "  plt.plot(epochs,test_accuracy, label=\"test_accuracy\")\n",
        "  plt.title(\"accuracy\")\n",
        "  plt.xlabel(\"epochs\")\n",
        "  plt.legend()"
      ],
      "metadata": {
        "id": "Lw1agkYMA0b1"
      },
      "execution_count": 67,
      "outputs": []
    },
    {
      "cell_type": "code",
      "source": [
        "plot_loss_curves(model_0_results)"
      ],
      "metadata": {
        "colab": {
          "base_uri": "https://localhost:8080/",
          "height": 458
        },
        "id": "PC6vVJosvlqy",
        "outputId": "2da45d34-6c08-49c5-9e65-2dfd24ab9ce5"
      },
      "execution_count": 71,
      "outputs": [
        {
          "output_type": "display_data",
          "data": {
            "text/plain": [
              "<Figure size 1080x504 with 2 Axes>"
            ],
            "image/png": "[encoded data removed]"
          },
          "metadata": {
            "needs_background": "light"
          }
        }
      ]
    },
    {
      "cell_type": "code",
      "source": [],
      "metadata": {
        "id": "IESQmGqgvlto"
      },
      "execution_count": null,
      "outputs": []
    },
    {
      "cell_type": "code",
      "source": [],
      "metadata": {
        "id": "q8zXrW7lvlwS"
      },
      "execution_count": null,
      "outputs": []
    },
    {
      "cell_type": "code",
      "source": [],
      "metadata": {
        "id": "cjB7pCqZvlym"
      },
      "execution_count": null,
      "outputs": []
    }
  ]
}